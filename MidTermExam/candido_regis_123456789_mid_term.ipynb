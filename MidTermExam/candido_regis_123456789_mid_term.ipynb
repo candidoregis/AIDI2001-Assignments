{
 "cells": [
  {
   "cell_type": "markdown",
   "metadata": {},
   "source": [
    "### AIDI 2001 Mid-Term Exam\n"
   ]
  },
  {
   "cell_type": "code",
   "execution_count": null,
   "metadata": {},
   "outputs": [],
   "source": [
    "# Enter your name and student_id and run the cell\n",
    "name = \"Candido Regis\"\n",
    "student_id = \"123456789\""
   ]
  },
  {
   "cell_type": "code",
   "execution_count": 2,
   "metadata": {},
   "outputs": [
    {
     "name": "stdout",
     "output_type": "stream",
     "text": [
      "Your network diagram is #3 \n"
     ]
    }
   ],
   "source": [
    "# run this cell (Don't modify)\n",
    "exam_size = 5\n",
    "magic_number = sum([int(ele) for ele in student_id])%exam_size\n",
    "diagram_nr = magic_number\n",
    "print(f\"Your network diagram is #{diagram_nr} \")"
   ]
  },
  {
   "cell_type": "code",
   "execution_count": 3,
   "metadata": {},
   "outputs": [],
   "source": [
    "# run this cell. (You are only allowed to use  the following libraries)\n",
    "import numpy as np\n",
    "import matplotlib.pyplot as plt"
   ]
  },
  {
   "cell_type": "code",
   "execution_count": 4,
   "metadata": {},
   "outputs": [],
   "source": [
    "# run this cell\n",
    "data_size = 100\n",
    "weights_size = 6\n",
    "adjustable_weights_length = 4\n",
    "weights_filter = np.ones(weights_size)\n",
    "if magic_number < adjustable_weights_length:\n",
    "    weights_filter[magic_number] = 0\n"
   ]
  },
  {
   "cell_type": "code",
   "execution_count": 5,
   "metadata": {},
   "outputs": [],
   "source": [
    "#run this cell: Synthetic data generation\n",
    "\n",
    "np.random.seed(10)\n",
    "X1 = np.random.normal(5, 2, data_size).reshape(-1,1)\n",
    "X2 = np.random.normal(10, 2, data_size).reshape(-1,1)\n",
    "\n",
    "w_fixed = np.array([2.1, 1.3, 1.1, 0.1, 1.8, 0.6]) * weights_filter\n",
    "H1 = w_fixed[0]* X1 + w_fixed[1]* X2 \n",
    "H2 = w_fixed[2]* X1 + w_fixed[3]* X2 \n",
    "Y = w_fixed[4]*H1 + w_fixed[5]*H2"
   ]
  },
  {
   "cell_type": "code",
   "execution_count": 8,
   "metadata": {},
   "outputs": [],
   "source": [
    "# Implement an ANN model using the network architecture diagram assigned to you (see attached file in the mid-term submission folder)\n",
    "# Note: Some weights are not relevent for your network, so you shouldn't update them (marks will be deducted if your solution update irrelevent weights )\n",
    "# You can change the Learning rates and nr_epochs, however, please leave the initial weights (all equal to 0.1) as it is.\n",
    "def my_ANN_model(x1, x2, y, Learning_Rate=0.001, nr_epochs=20, w0=0.1, w1=0.1, w2=0.1, w3=0.1, w4=0.1, w5=0.1, costs=[]):\n",
    "\n",
    "    # Get the number of samples\n",
    "    m = len(y)\n",
    "    \n",
    "    # Training loop\n",
    "    for epoch in range(nr_epochs):\n",
    "        # Forward propagation\n",
    "        # Hidden layer nodes\n",
    "        h1 = w0 * x1 + w1 * x2  # First hidden node\n",
    "        h2 = w2 * x1 + w3 * x2  # Second hidden node\n",
    "        \n",
    "        # Output layer\n",
    "        output = w4 * h1 + w5 * h2\n",
    "        \n",
    "        # Compute cost (Mean Squared Error)\n",
    "        cost = (1/(2*m)) * np.sum((output - y)**2)\n",
    "        costs.append(cost)\n",
    "        \n",
    "        # Backpropagation\n",
    "        # Compute gradients\n",
    "        dL_dOutput = (1/m) * (output - y)\n",
    "        \n",
    "        # Gradients for output layer weights\n",
    "        dL_dW4 = np.sum(dL_dOutput * h1)\n",
    "        dL_dW5 = np.sum(dL_dOutput * h2)\n",
    "        \n",
    "        # Gradients for hidden layer\n",
    "        dL_dH1 = dL_dOutput * w4\n",
    "        dL_dH2 = dL_dOutput * w5\n",
    "        \n",
    "        # Gradients for input layer weights\n",
    "        dL_dW0 = np.sum(dL_dH1 * x1)\n",
    "        dL_dW1 = np.sum(dL_dH1 * x2)\n",
    "        dL_dW2 = np.sum(dL_dH2 * x1)\n",
    "        \n",
    "        # Update weights\n",
    "        w0 -= Learning_Rate * dL_dW0\n",
    "        w1 -= Learning_Rate * dL_dW1\n",
    "        w2 -= Learning_Rate * dL_dW2\n",
    "        w4 -= Learning_Rate * dL_dW4\n",
    "        w5 -= Learning_Rate * dL_dW5\n",
    "\n",
    "    return w0, w1, w2, w3, w4, w5, costs # weights associated with the two input parameters and a list containing the cost values for each training epoch\n"
   ]
  },
  {
   "cell_type": "code",
   "execution_count": 9,
   "metadata": {},
   "outputs": [],
   "source": [
    "w1, w2, w3, w4, w5, w6, costs = my_ANN_model(X1, X2, Y)"
   ]
  },
  {
   "cell_type": "code",
   "execution_count": 10,
   "metadata": {},
   "outputs": [
    {
     "name": "stdout",
     "output_type": "stream",
     "text": [
      "initial weights [2.1 1.3 1.1 0.  1.8 0.6]\n",
      "weights calculated by Candido Regis model (1.1131593651606775, 1.5948399270195068, 0.7277599578502877, 0.1, 1.9435377847272197, 0.8668845691342806)\n"
     ]
    }
   ],
   "source": [
    "print(f\"initial weights {w_fixed}\")\n",
    "print(f\"weights calculated by {name} model {w1, w2, w3, w4, w5, w6}\")"
   ]
  },
  {
   "cell_type": "code",
   "execution_count": 11,
   "metadata": {},
   "outputs": [
    {
     "data": {
      "text/plain": [
       "[<matplotlib.lines.Line2D at 0x10de65790>]"
      ]
     },
     "execution_count": 11,
     "metadata": {},
     "output_type": "execute_result"
    },
    {
     "data": {
      "image/png": "[encoded data removed]",
      "text/plain": [
       "<Figure size 640x480 with 1 Axes>"
      ]
     },
     "metadata": {},
     "output_type": "display_data"
    }
   ],
   "source": [
    "plt.plot(costs)"
   ]
  },
  {
   "cell_type": "markdown",
   "metadata": {},
   "source": [
    "#### Rename the file to: <b> your_name_student_id_mid_term.ipynp </b>\n",
    "#### Run all the cells (in vs-code: Run All)\n",
    "#### Save the file\n",
    "#### Upload the file to <b> mid-term </b> submission folder"
   ]
  },
  {
   "cell_type": "markdown",
   "metadata": {},
   "source": []
  }
 ],
 "metadata": {
  "kernelspec": {
   "display_name": "base",
   "language": "python",
   "name": "python3"
  },
  "language_info": {
   "codemirror_mode": {
    "name": "ipython",
    "version": 3
   },
   "file_extension": ".py",
   "mimetype": "text/x-python",
   "name": "python",
   "nbconvert_exporter": "python",
   "pygments_lexer": "ipython3",
   "version": "3.12.7"
  }
 },
 "nbformat": 4,
 "nbformat_minor": 2
}
