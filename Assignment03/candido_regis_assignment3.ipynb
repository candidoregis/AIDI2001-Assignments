{
 "cells": [
  {
   "cell_type": "code",
   "execution_count": 28,
   "id": "30c6ce83",
   "metadata": {},
   "outputs": [],
   "source": [
    "# Instructions:\n",
    "# Please use the attached diagram to design a rule-based expert system. \n",
    "# Also, please implement the rules and inference system using classes, \n",
    "# so you would be able to scale it well.\n",
    "\n",
    "# Harness:\n",
    "\n",
    "# def myExpertSystem(color, car, food):\n",
    "\n",
    "  # your inference logic here\n",
    "\n",
    "# return gpa_range"
   ]
  },
  {
   "cell_type": "code",
   "execution_count": 29,
   "id": "163bef8b",
   "metadata": {},
   "outputs": [],
   "source": [
    "#### ASSIGNMENT 03 - CANDIDO REGIS ####"
   ]
  },
  {
   "cell_type": "code",
   "execution_count": 30,
   "id": "2589ecdd",
   "metadata": {},
   "outputs": [],
   "source": [
    "def print_result(color, car, food, gpa_range):\n",
    "    print(\"\\nExpert System Inference Result\")\n",
    "    print(\"=============================\")\n",
    "    print(f\"Input Parameters:\")\n",
    "    print(f\"  Color: {color}\")\n",
    "    print(f\"  Car: {car}\")\n",
    "    print(f\"  Food: {food}\")\n",
    "    print(f\"Inferred GPA Range: {gpa_range}\")\n",
    "    print(\"=============================\")"
   ]
  },
  {
   "cell_type": "code",
   "execution_count": 31,
   "id": "216288b9",
   "metadata": {},
   "outputs": [],
   "source": [
    "# Represents a single rule in the expert system.\n",
    "class Rule:\n",
    "    \n",
    "    # Constructor for the Rule class. Initializes the rule with specific parameters.\n",
    "    def __init__(self, color, car, food, gpa_range):\n",
    "        self.color = color\n",
    "        self.car = car\n",
    "        self.food = food\n",
    "        self.gpa_range = gpa_range\n",
    "    \n",
    "    # Check if the given inputs match this rule. Returns True if all conditions match, otherwise False.\n",
    "    def matches(self, color, car, food):\n",
    "        return (self.color == color and \n",
    "                self.car == car and \n",
    "                self.food == food)\n",
    "    \n",
    "    # This method will perform the action associated with this rule, in this case, print the result using the print_result function.\n",
    "    def action(self):\n",
    "        print_result(self.color, self.car, self.food, self.gpa_range)"
   ]
  },
  {
   "cell_type": "code",
   "execution_count": 32,
   "id": "93dece95",
   "metadata": {},
   "outputs": [],
   "source": [
    "# Represents the expert system that uses rules to infer GPA ranges based on user inputs.\n",
    "class ExpertSystem:\n",
    "    \n",
    "    # Expert Systems' class constructor. Initializes it with predefined rules.\n",
    "    def __init__(self):\n",
    "        self.rules = []\n",
    "        self._initialize_rules()\n",
    "    \n",
    "    # Initializes the rules for the expert system based on the provided diagram.\n",
    "    def _initialize_rules(self):\n",
    "        # Blue->Kia->Burguer = GPA<2.5\n",
    "        self.rules.append(Rule(\"Blue\", \"Kia\", \"Burguer\", \"GPA<2.5\"))\n",
    "        \n",
    "        # Blue->Kia->Pizza = 2.4<GPA<3.1\n",
    "        self.rules.append(Rule(\"Blue\", \"Kia\", \"Pizza\", \"2.4<GPA<3.1\"))\n",
    "        \n",
    "        # Blue->Ford->Burguer = 2.7<GPA<2.9\n",
    "        self.rules.append(Rule(\"Blue\", \"Ford\", \"Burguer\", \"2.7<GPA<2.9\"))\n",
    "        \n",
    "        # Blue->Ford->Pizza = 3.4<GPA<4.1\n",
    "        self.rules.append(Rule(\"Blue\", \"Ford\", \"Pizza\", \"3.4<GPA<4.1\"))\n",
    "        \n",
    "        # Green->Kia->Burguer = 3.1<GPA<3.8\n",
    "        self.rules.append(Rule(\"Green\", \"Kia\", \"Burguer\", \"3.1<GPA<3.8\"))\n",
    "        \n",
    "        # Green->Kia->Pizza = 2.3<GPA<3.9\n",
    "        self.rules.append(Rule(\"Green\", \"Kia\", \"Pizza\", \"2.3<GPA<3.9\"))\n",
    "        \n",
    "        # Green->Ford->Burguer = 3.7<GPA<4.2\n",
    "        self.rules.append(Rule(\"Green\", \"Ford\", \"Burguer\", \"3.7<GPA<4.2\"))\n",
    "        \n",
    "        # Green->Ford->Pizza = 3.9<GPA\n",
    "        self.rules.append(Rule(\"Green\", \"Ford\", \"Pizza\", \"3.9<GPA\"))\n",
    "    \n",
    "# Inference method for the expert system. It checks the rules against the provided parameters.\n",
    "    def infer(self, color, car, food, execute_action=False):\n",
    "        for rule in self.rules:\n",
    "            if rule.matches(color, car, food):\n",
    "                if execute_action:\n",
    "                    rule.action()\n",
    "                return rule.gpa_range\n",
    "        return \"No matching rule found\""
   ]
  },
  {
   "cell_type": "code",
   "execution_count": 33,
   "id": "6ed78817",
   "metadata": {},
   "outputs": [],
   "source": [
    "# Harness function for the expert system. It takes user inputs and returns the inferred GPA range.\n",
    "def myExpertSystem(color, car, food, execute_action=False):\n",
    "    expert_system = ExpertSystem()\n",
    "    return expert_system.infer(color, car, food, execute_action)"
   ]
  },
  {
   "cell_type": "code",
   "execution_count": 34,
   "id": "e9076854",
   "metadata": {},
   "outputs": [],
   "source": [
    "#### Test the Expert System ####"
   ]
  },
  {
   "cell_type": "code",
   "execution_count": 35,
   "id": "61bc1ee1",
   "metadata": {},
   "outputs": [
    {
     "name": "stdout",
     "output_type": "stream",
     "text": [
      "\n",
      "Expert System Inference Result\n",
      "=============================\n",
      "Input Parameters:\n",
      "  Color: Blue\n",
      "  Car: Kia\n",
      "  Food: Burguer\n",
      "Inferred GPA Range: GPA<2.5\n",
      "=============================\n"
     ]
    },
    {
     "data": {
      "text/plain": [
       "'GPA<2.5'"
      ]
     },
     "execution_count": 35,
     "metadata": {},
     "output_type": "execute_result"
    }
   ],
   "source": [
    "myExpertSystem(\"Blue\", \"Kia\", \"Burguer\", execute_action=True)"
   ]
  },
  {
   "cell_type": "code",
   "execution_count": 36,
   "id": "be45bb52",
   "metadata": {},
   "outputs": [
    {
     "name": "stdout",
     "output_type": "stream",
     "text": [
      "\n",
      "Expert System Inference Result\n",
      "=============================\n",
      "Input Parameters:\n",
      "  Color: Blue\n",
      "  Car: Kia\n",
      "  Food: Pizza\n",
      "Inferred GPA Range: 2.4<GPA<3.1\n",
      "=============================\n"
     ]
    },
    {
     "data": {
      "text/plain": [
       "'2.4<GPA<3.1'"
      ]
     },
     "execution_count": 36,
     "metadata": {},
     "output_type": "execute_result"
    }
   ],
   "source": [
    "myExpertSystem(\"Blue\", \"Kia\", \"Pizza\", execute_action=True)"
   ]
  },
  {
   "cell_type": "code",
   "execution_count": 37,
   "id": "775ead39",
   "metadata": {},
   "outputs": [
    {
     "name": "stdout",
     "output_type": "stream",
     "text": [
      "\n",
      "Expert System Inference Result\n",
      "=============================\n",
      "Input Parameters:\n",
      "  Color: Blue\n",
      "  Car: Ford\n",
      "  Food: Burguer\n",
      "Inferred GPA Range: 2.7<GPA<2.9\n",
      "=============================\n"
     ]
    },
    {
     "data": {
      "text/plain": [
       "'2.7<GPA<2.9'"
      ]
     },
     "execution_count": 37,
     "metadata": {},
     "output_type": "execute_result"
    }
   ],
   "source": [
    "myExpertSystem(\"Blue\", \"Ford\", \"Burguer\", execute_action=True)"
   ]
  },
  {
   "cell_type": "code",
   "execution_count": 38,
   "id": "835c7baa",
   "metadata": {},
   "outputs": [
    {
     "name": "stdout",
     "output_type": "stream",
     "text": [
      "\n",
      "Expert System Inference Result\n",
      "=============================\n",
      "Input Parameters:\n",
      "  Color: Blue\n",
      "  Car: Ford\n",
      "  Food: Pizza\n",
      "Inferred GPA Range: 3.4<GPA<4.1\n",
      "=============================\n"
     ]
    },
    {
     "data": {
      "text/plain": [
       "'3.4<GPA<4.1'"
      ]
     },
     "execution_count": 38,
     "metadata": {},
     "output_type": "execute_result"
    }
   ],
   "source": [
    "\n",
    "myExpertSystem(\"Blue\", \"Ford\", \"Pizza\", execute_action=True)"
   ]
  },
  {
   "cell_type": "code",
   "execution_count": 39,
   "id": "03a02091",
   "metadata": {},
   "outputs": [
    {
     "name": "stdout",
     "output_type": "stream",
     "text": [
      "\n",
      "Expert System Inference Result\n",
      "=============================\n",
      "Input Parameters:\n",
      "  Color: Green\n",
      "  Car: Kia\n",
      "  Food: Burguer\n",
      "Inferred GPA Range: 3.1<GPA<3.8\n",
      "=============================\n"
     ]
    },
    {
     "data": {
      "text/plain": [
       "'3.1<GPA<3.8'"
      ]
     },
     "execution_count": 39,
     "metadata": {},
     "output_type": "execute_result"
    }
   ],
   "source": [
    "\n",
    "myExpertSystem(\"Green\", \"Kia\", \"Burguer\", execute_action=True)"
   ]
  },
  {
   "cell_type": "code",
   "execution_count": 40,
   "id": "3996a487",
   "metadata": {},
   "outputs": [
    {
     "name": "stdout",
     "output_type": "stream",
     "text": [
      "\n",
      "Expert System Inference Result\n",
      "=============================\n",
      "Input Parameters:\n",
      "  Color: Green\n",
      "  Car: Kia\n",
      "  Food: Pizza\n",
      "Inferred GPA Range: 2.3<GPA<3.9\n",
      "=============================\n"
     ]
    },
    {
     "data": {
      "text/plain": [
       "'2.3<GPA<3.9'"
      ]
     },
     "execution_count": 40,
     "metadata": {},
     "output_type": "execute_result"
    }
   ],
   "source": [
    "\n",
    "myExpertSystem(\"Green\", \"Kia\", \"Pizza\", execute_action=True)"
   ]
  },
  {
   "cell_type": "code",
   "execution_count": 41,
   "id": "d52a999e",
   "metadata": {},
   "outputs": [
    {
     "name": "stdout",
     "output_type": "stream",
     "text": [
      "\n",
      "Expert System Inference Result\n",
      "=============================\n",
      "Input Parameters:\n",
      "  Color: Green\n",
      "  Car: Ford\n",
      "  Food: Burguer\n",
      "Inferred GPA Range: 3.7<GPA<4.2\n",
      "=============================\n"
     ]
    },
    {
     "data": {
      "text/plain": [
       "'3.7<GPA<4.2'"
      ]
     },
     "execution_count": 41,
     "metadata": {},
     "output_type": "execute_result"
    }
   ],
   "source": [
    "\n",
    "myExpertSystem(\"Green\", \"Ford\", \"Burguer\", execute_action=True)"
   ]
  },
  {
   "cell_type": "code",
   "execution_count": 42,
   "id": "bddec103",
   "metadata": {},
   "outputs": [
    {
     "name": "stdout",
     "output_type": "stream",
     "text": [
      "\n",
      "Expert System Inference Result\n",
      "=============================\n",
      "Input Parameters:\n",
      "  Color: Green\n",
      "  Car: Ford\n",
      "  Food: Pizza\n",
      "Inferred GPA Range: 3.9<GPA\n",
      "=============================\n"
     ]
    },
    {
     "data": {
      "text/plain": [
       "'3.9<GPA'"
      ]
     },
     "execution_count": 42,
     "metadata": {},
     "output_type": "execute_result"
    }
   ],
   "source": [
    "\n",
    "myExpertSystem(\"Green\", \"Ford\", \"Pizza\", execute_action=True)"
   ]
  },
  {
   "cell_type": "code",
   "execution_count": 43,
   "id": "fad4c304",
   "metadata": {},
   "outputs": [
    {
     "data": {
      "text/plain": [
       "'No matching rule found'"
      ]
     },
     "execution_count": 43,
     "metadata": {},
     "output_type": "execute_result"
    }
   ],
   "source": [
    "\n",
    "myExpertSystem(\"Red\", \"Ford\", \"Pizza\", execute_action=True)"
   ]
  },
  {
   "cell_type": "code",
   "execution_count": 44,
   "id": "3b684c83",
   "metadata": {},
   "outputs": [
    {
     "data": {
      "text/plain": [
       "'No matching rule found'"
      ]
     },
     "execution_count": 44,
     "metadata": {},
     "output_type": "execute_result"
    }
   ],
   "source": [
    "\n",
    "myExpertSystem(\"Green\", \"Toyota\", \"Pizza\", execute_action=True)"
   ]
  },
  {
   "cell_type": "code",
   "execution_count": 45,
   "id": "7bb360eb",
   "metadata": {},
   "outputs": [
    {
     "data": {
      "text/plain": [
       "'No matching rule found'"
      ]
     },
     "execution_count": 45,
     "metadata": {},
     "output_type": "execute_result"
    }
   ],
   "source": [
    "\n",
    "myExpertSystem(\"Green\", \"Ford\", \"Salad\", execute_action=True)"
   ]
  }
 ],
 "metadata": {
  "kernelspec": {
   "display_name": "base",
   "language": "python",
   "name": "python3"
  },
  "language_info": {
   "codemirror_mode": {
    "name": "ipython",
    "version": 3
   },
   "file_extension": ".py",
   "mimetype": "text/x-python",
   "name": "python",
   "nbconvert_exporter": "python",
   "pygments_lexer": "ipython3",
   "version": "3.12.7"
  }
 },
 "nbformat": 4,
 "nbformat_minor": 5
}
