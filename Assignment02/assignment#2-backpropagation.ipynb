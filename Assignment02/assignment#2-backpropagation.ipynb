{
 "cells": [
  {
   "cell_type": "markdown",
   "metadata": {},
   "source": [
    "### AIDI 2001 Assignment #2 "
   ]
  },
  {
   "cell_type": "markdown",
   "metadata": {},
   "source": [
    "### Please use the synthetic dataset (created below) to train the ANN described in the attached diagram (see assignment folder)\n",
    "#### Training data has two input values (x1,x2) and a real-value as a label\n",
    "#### NO activation functions are used in any of the layers\n",
    "#### You need to develop your own code for the forward pass and back propagation to optimize the weights\n",
    "#### You might not get greate accuracy, however, you can experiment with different parameters such as Learning Rate and sample size to improve the performance\n",
    "#### Please use a plot diagram to demonstrate the changes in cost against the number of epochs"
   ]
  },
  {
   "cell_type": "code",
   "execution_count": null,
   "metadata": {},
   "outputs": [],
   "source": [
    "name = \"\"\n",
    "student_id = \"\""
   ]
  },
  {
   "cell_type": "code",
   "execution_count": null,
   "metadata": {},
   "outputs": [],
   "source": [
    "# You are only allowed to use  the following libraries\n",
    "import numpy as np\n",
    "import matplotlib.pyplot as plt"
   ]
  },
  {
   "cell_type": "code",
   "execution_count": null,
   "metadata": {},
   "outputs": [],
   "source": [
    "data_size = 100"
   ]
  },
  {
   "cell_type": "code",
   "execution_count": null,
   "metadata": {},
   "outputs": [],
   "source": [
    "X1 = np.random.normal(5, 2, data_size).reshape(-1,1)\n",
    "X2 = np.random.normal(10, 2, data_size).reshape(-1,1)"
   ]
  },
  {
   "cell_type": "code",
   "execution_count": null,
   "metadata": {},
   "outputs": [],
   "source": [
    "w1_fixed = 4.8\n",
    "w2_fixed = 2.5\n",
    "w3_fixed = 1.2"
   ]
  },
  {
   "cell_type": "code",
   "execution_count": null,
   "metadata": {},
   "outputs": [],
   "source": [
    "Y = w3_fixed*(w1_fixed*X1 + w2_fixed*X2)"
   ]
  },
  {
   "cell_type": "code",
   "execution_count": null,
   "metadata": {},
   "outputs": [],
   "source": [
    "X1"
   ]
  },
  {
   "cell_type": "code",
   "execution_count": null,
   "metadata": {},
   "outputs": [],
   "source": [
    "def my_ANN_model(x1, x2, y, Learning_Rate=0.01, nr_epochs=20, w1=-0.22, w2=0.17, w3=0.97, costs=[]):\n",
    "    pass\n",
    "    return w1, w2, w3, costs # weights associated with the two input parameters and a list containing the cost values for each training epoch\n"
   ]
  },
  {
   "cell_type": "code",
   "execution_count": null,
   "metadata": {},
   "outputs": [],
   "source": [
    "w1, w2, w3, costs = my_ANN_model(X1, X2, Y)"
   ]
  },
  {
   "cell_type": "code",
   "execution_count": null,
   "metadata": {},
   "outputs": [],
   "source": [
    "plt.plot(costs)"
   ]
  },
  {
   "cell_type": "markdown",
   "metadata": {},
   "source": [
    "#### Rename the file to: <b> your_name_student_id_assignment2.ipynp </b>\n",
    "#### Run all the cells (in vs-code: Run All)\n",
    "#### Save the file\n",
    "#### Upload the file to <b> Assignment 2 </b> submission folder"
   ]
  },
  {
   "cell_type": "markdown",
   "metadata": {},
   "source": []
  }
 ],
 "metadata": {
  "kernelspec": {
   "display_name": "base",
   "language": "python",
   "name": "python3"
  },
  "language_info": {
   "codemirror_mode": {
    "name": "ipython",
    "version": 3
   },
   "file_extension": ".py",
   "mimetype": "text/x-python",
   "name": "python",
   "nbconvert_exporter": "python",
   "pygments_lexer": "ipython3",
   "version": "3.12.7"
  }
 },
 "nbformat": 4,
 "nbformat_minor": 2
}
