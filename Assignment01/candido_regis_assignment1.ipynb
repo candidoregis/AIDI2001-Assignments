{
 "cells": [
  {
   "cell_type": "code",
   "execution_count": null,
   "metadata": {},
   "outputs": [],
   "source": [
    "name = \"Candido Regis\"\n",
    "student_id = \"123123123\""
   ]
  },
  {
   "cell_type": "code",
   "execution_count": 35,
   "metadata": {},
   "outputs": [],
   "source": [
    "# You are ONLY allowed to use the following libraries\n",
    "import numpy as np\n",
    "import matplotlib.pyplot as plt"
   ]
  },
  {
   "cell_type": "code",
   "execution_count": 36,
   "metadata": {},
   "outputs": [
    {
     "data": {
      "text/plain": [
       "8"
      ]
     },
     "execution_count": 36,
     "metadata": {},
     "output_type": "execute_result"
    }
   ],
   "source": [
    "# run this code \n",
    "magic_number = sum([int(ele) for ele in student_id])%5 + 5\n",
    "magic_number "
   ]
  },
  {
   "cell_type": "code",
   "execution_count": 37,
   "metadata": {},
   "outputs": [],
   "source": [
    "sample_size = 100"
   ]
  },
  {
   "cell_type": "code",
   "execution_count": 38,
   "metadata": {},
   "outputs": [
    {
     "data": {
      "text/plain": [
       "(array([6, 4, 7, 6, 6, 6, 6, 5, 3, 5, 4, 6, 7, 4, 4, 6, 6, 3, 4, 4, 2, 2,\n",
       "        1, 5, 3, 6, 6, 7, 4, 7, 5, 5, 5, 7, 3, 7, 5, 3, 4, 3, 7, 2, 3, 7,\n",
       "        1, 6, 3, 2, 5, 3, 7, 7, 5, 1, 3, 4, 3, 7, 7, 3, 3, 3, 6, 7, 3, 7,\n",
       "        3, 5, 3, 6, 6, 7, 6, 2, 2, 3, 1, 5, 5, 6, 4, 3, 4, 6, 4, 6, 3, 4,\n",
       "        2, 6, 3, 4, 3, 7, 3, 5, 2, 1, 6, 2]),\n",
       " array([5, 6, 2, 7, 5, 6, 3, 4, 7, 7, 3, 1, 4, 5, 7, 7, 2, 5, 2, 2, 3, 3,\n",
       "        6, 3, 1, 3, 1, 6, 3, 5, 7, 3, 3, 7, 7, 3, 2, 1, 7, 4, 7, 3, 6, 1,\n",
       "        4, 4, 3, 6, 6, 1, 1, 6, 6, 6, 5, 1, 4, 4, 1, 4, 6, 7, 1, 6, 3, 5,\n",
       "        6, 3, 6, 2, 5, 2, 1, 6, 7, 5, 2, 5, 5, 7, 1, 1, 2, 5, 4, 7, 6, 7,\n",
       "        4, 7, 4, 2, 5, 1, 4, 3, 6, 1, 7, 4]))"
      ]
     },
     "execution_count": 38,
     "metadata": {},
     "output_type": "execute_result"
    }
   ],
   "source": [
    "nr_rooms = np.random.randint(1,magic_number,sample_size)\n",
    "nr_wrooms = np.random.randint(1,magic_number,sample_size)\n",
    "nr_rooms, nr_wrooms\n"
   ]
  },
  {
   "cell_type": "code",
   "execution_count": 39,
   "metadata": {},
   "outputs": [
    {
     "data": {
      "text/plain": [
       "(7.563508525394379, 5.0366010860282655)"
      ]
     },
     "execution_count": 39,
     "metadata": {},
     "output_type": "execute_result"
    }
   ],
   "source": [
    "w1_fixed = magic_number * np.random.random()\n",
    "w2_fixed = magic_number * np.random.random()\n",
    "w1_fixed, w2_fixed"
   ]
  },
  {
   "cell_type": "code",
   "execution_count": 40,
   "metadata": {},
   "outputs": [
    {
     "data": {
      "text/plain": [
       "array([70.56405658, 60.47364062, 63.01776185, 80.63725875, 70.56405658,\n",
       "       75.60065767, 60.49085441, 57.96394697, 57.94673318, 73.07375023,\n",
       "       45.36383736, 50.41765224, 73.09096402, 55.43703953, 65.5102417 ,\n",
       "       80.63725875, 55.45425332, 47.87353101, 40.32723627, 40.32723627,\n",
       "       30.23682031, 30.23682031, 37.78311504, 52.92734589, 27.72712666,\n",
       "       60.49085441, 50.41765224, 83.16416619, 45.36383736, 78.12756511,\n",
       "       73.07375023, 52.92734589, 52.92734589, 88.20076728, 57.94673318,\n",
       "       68.05436294, 47.8907448 , 27.72712666, 65.5102417 , 42.83692992,\n",
       "       88.20076728, 30.23682031, 52.91013209, 57.98116076, 27.70991287,\n",
       "       65.5274555 , 37.80032883, 45.34662357, 68.03714914, 27.72712666,\n",
       "       57.98116076, 83.16416619, 68.03714914, 37.78311504, 47.87353101,\n",
       "       35.29063519, 42.83692992, 73.09096402, 57.98116076, 42.83692992,\n",
       "       52.91013209, 57.94673318, 50.41765224, 83.16416619, 37.80032883,\n",
       "       78.12756511, 52.91013209, 52.92734589, 52.91013209, 55.45425332,\n",
       "       70.56405658, 63.01776185, 50.41765224, 45.34662357, 50.38322465,\n",
       "       47.87353101, 17.6367107 , 63.00054806, 63.00054806, 80.63725875,\n",
       "       35.29063519, 27.72712666, 40.32723627, 70.56405658, 50.40043845,\n",
       "       80.63725875, 52.91013209, 65.5102417 , 35.27342139, 80.63725875,\n",
       "       42.83692992, 40.32723627, 47.87353101, 57.98116076, 42.83692992,\n",
       "       52.92734589, 45.34662357, 12.60010961, 80.63725875, 35.27342139])"
      ]
     },
     "execution_count": 40,
     "metadata": {},
     "output_type": "execute_result"
    }
   ],
   "source": [
    "price = w1_fixed * nr_rooms + w2_fixed*nr_wrooms\n",
    "price"
   ]
  },
  {
   "cell_type": "markdown",
   "metadata": {},
   "source": [
    "### Question #1: Linear Model\n"
   ]
  },
  {
   "cell_type": "code",
   "execution_count": 41,
   "metadata": {},
   "outputs": [],
   "source": [
    "## Write a method (my_linear_model(...)) to train a model to predict house price based on given input parameters (nr_rooms and nr_washrooms)\n",
    "def my_linear_model(nr_rooms, nr_wrooms, price, Learning_Rate=0.01, nr_epochs=20, w1= 0.32, w2=-0.17, costs=[]):\n",
    "    for i in range(nr_epochs):\n",
    "        y_hat = w1 * nr_rooms + w2 * nr_wrooms\n",
    "        cost = sum((price - y_hat) ** 2)/sample_size\n",
    "        costs.append(cost)\n",
    "        w1 = w1 - Learning_Rate * sum((price - y_hat) * (-nr_rooms))/sample_size\n",
    "        w2 = w2 - Learning_Rate * sum((price - y_hat) * (-nr_wrooms))/sample_size\n",
    "    return w1, w2, costs # weights associated with the two input parameters and a list containing the cost values for each training epoch"
   ]
  },
  {
   "cell_type": "code",
   "execution_count": 42,
   "metadata": {},
   "outputs": [],
   "source": [
    "w1, w2, costs = my_linear_model(nr_rooms, nr_wrooms, price)"
   ]
  },
  {
   "cell_type": "code",
   "execution_count": 43,
   "metadata": {},
   "outputs": [
    {
     "data": {
      "text/plain": [
       "[<matplotlib.lines.Line2D at 0x12aec73e0>]"
      ]
     },
     "execution_count": 43,
     "metadata": {},
     "output_type": "execute_result"
    },
    {
     "data": {
      "image/png": "[encoded data removed]",
      "text/plain": [
       "<Figure size 640x480 with 1 Axes>"
      ]
     },
     "metadata": {},
     "output_type": "display_data"
    }
   ],
   "source": [
    "plt.plot(costs)"
   ]
  },
  {
   "cell_type": "code",
   "execution_count": 44,
   "metadata": {},
   "outputs": [
    {
     "data": {
      "text/plain": [
       "array([1, 1, 1, 1, 1, 1, 1, 1, 1, 1, 0, 0, 1, 1, 1, 1, 1, 0, 0, 0, 0, 0,\n",
       "       0, 0, 0, 1, 0, 1, 0, 1, 1, 0, 0, 1, 1, 1, 0, 0, 1, 0, 1, 0, 0, 1,\n",
       "       0, 1, 0, 0, 1, 0, 1, 1, 1, 0, 0, 0, 0, 1, 1, 0, 0, 1, 0, 1, 0, 1,\n",
       "       0, 0, 0, 1, 1, 1, 0, 0, 0, 0, 0, 1, 1, 1, 0, 0, 0, 1, 0, 1, 0, 1,\n",
       "       0, 1, 0, 0, 0, 1, 0, 0, 0, 0, 1, 0])"
      ]
     },
     "execution_count": 44,
     "metadata": {},
     "output_type": "execute_result"
    }
   ],
   "source": [
    "target = price.copy()\n",
    "target = np.array([1  if value > np.mean(target) else 0 for value in target])\n",
    "target"
   ]
  },
  {
   "cell_type": "markdown",
   "metadata": {},
   "source": [
    "### Question #2: Binary Model"
   ]
  },
  {
   "cell_type": "code",
   "execution_count": 45,
   "metadata": {},
   "outputs": [],
   "source": [
    "### Write a method (my_binary_model(...)) to train a binary classification model  using nr_rooms, nr_wrooms as input and target as a label\n",
    "def my_binary_model(nr_rooms, nr_wrooms, target, Learning_Rate=0.01, nr_epochs=20, w1= -0.22, w2=0.17, costs=[]):\n",
    "\n",
    "    def sigmoid(z):\n",
    "        return 1 / (1 + np.exp(-z))\n",
    "\n",
    "    for i in range(nr_epochs):\n",
    "        # Using the sigmoid function to compute predictions\n",
    "        y_hat = sigmoid(w1 * nr_rooms + w2 * nr_wrooms)\n",
    "\n",
    "        # Compute cost\n",
    "        cost = (-np.sum(target * np.log(y_hat) + (1 - target) * np.log(1 - y_hat)))/sample_size\n",
    "        costs.append(cost)\n",
    "\n",
    "        # Compute gradients and update weights\n",
    "        w1 = w1 - Learning_Rate * np.sum((y_hat - target) * nr_rooms)/sample_size\n",
    "        w2 = w2 - Learning_Rate * np.sum((y_hat - target) * nr_wrooms)/sample_size\n",
    "    return w1, w2, costs # weights associated with the two input parameters and a list containing the cost values for each training epoch\n"
   ]
  },
  {
   "cell_type": "code",
   "execution_count": 46,
   "metadata": {},
   "outputs": [],
   "source": [
    "w1, w2, costs = my_binary_model(nr_rooms, nr_wrooms, target)"
   ]
  },
  {
   "cell_type": "code",
   "execution_count": 47,
   "metadata": {},
   "outputs": [
    {
     "data": {
      "text/plain": [
       "[<matplotlib.lines.Line2D at 0x12af5d820>]"
      ]
     },
     "execution_count": 47,
     "metadata": {},
     "output_type": "execute_result"
    },
    {
     "data": {
      "image/png": "[encoded data removed]",
      "text/plain": [
       "<Figure size 640x480 with 1 Axes>"
      ]
     },
     "metadata": {},
     "output_type": "display_data"
    }
   ],
   "source": [
    "plt.plot(costs)"
   ]
  },
  {
   "cell_type": "markdown",
   "metadata": {},
   "source": [
    "#### Rename the file to: <b> your_name_student_id_assignment1.ipynp </b>\n",
    "#### Run all the cells (in vs-code: Run All)\n",
    "#### Save the file\n",
    "#### Upload the file to <b> Assignment 1 </b> submission folder"
   ]
  },
  {
   "cell_type": "markdown",
   "metadata": {},
   "source": []
  }
 ],
 "metadata": {
  "kernelspec": {
   "display_name": "base",
   "language": "python",
   "name": "python3"
  },
  "language_info": {
   "codemirror_mode": {
    "name": "ipython",
    "version": 3
   },
   "file_extension": ".py",
   "mimetype": "text/x-python",
   "name": "python",
   "nbconvert_exporter": "python",
   "pygments_lexer": "ipython3",
   "version": "3.12.7"
  }
 },
 "nbformat": 4,
 "nbformat_minor": 2
}
