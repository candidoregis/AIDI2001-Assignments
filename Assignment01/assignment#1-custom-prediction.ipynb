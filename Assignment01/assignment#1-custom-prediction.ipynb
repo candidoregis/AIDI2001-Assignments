{
 "cells": [
  {
   "cell_type": "code",
   "execution_count": null,
   "metadata": {},
   "outputs": [],
   "source": [
    "name = \"your name\"\n",
    "student_id = \"133456798\""
   ]
  },
  {
   "cell_type": "code",
   "execution_count": null,
   "metadata": {},
   "outputs": [],
   "source": [
    "# You are ONLY allowed to use the following libraries\n",
    "import numpy as np\n",
    "import matplotlib.pyplot as plt"
   ]
  },
  {
   "cell_type": "code",
   "execution_count": null,
   "metadata": {},
   "outputs": [],
   "source": [
    "# run this code \n",
    "magic_number = sum([int(ele) for ele in student_id])%5 + 5\n",
    "magic_number "
   ]
  },
  {
   "cell_type": "code",
   "execution_count": null,
   "metadata": {},
   "outputs": [],
   "source": [
    "sample_size = 100"
   ]
  },
  {
   "cell_type": "code",
   "execution_count": null,
   "metadata": {},
   "outputs": [],
   "source": [
    "nr_rooms = np.random.randint(1,magic_number,sample_size)\n",
    "nr_wrooms = np.random.randint(1,magic_number,sample_size)\n",
    "nr_wrooms, nr_wr\n"
   ]
  },
  {
   "cell_type": "code",
   "execution_count": null,
   "metadata": {},
   "outputs": [],
   "source": [
    "w1_fixed = magic_number * np.random.random()\n",
    "w2_fixed = magic_number * np.random.random()\n",
    "w1_fixed, w2_fixed"
   ]
  },
  {
   "cell_type": "code",
   "execution_count": null,
   "metadata": {},
   "outputs": [],
   "source": [
    "price = w1_fixed * nr_rooms + w2_fixed*nr_wr\n",
    "price"
   ]
  },
  {
   "cell_type": "markdown",
   "metadata": {},
   "source": [
    "### Question #1: Linear Model\n"
   ]
  },
  {
   "cell_type": "code",
   "execution_count": null,
   "metadata": {},
   "outputs": [],
   "source": [
    "## Write a method (my_linear_model(...)) to train a model to predict house price based on given input parameters (nr_rooms and nr_washrooms)\n",
    "def my_linear_model(nr_rooms, nr_wrooms, price, Learning_Rate=0.01, nr_epochs=20, w1= 0.32, w2=-0.17, costs=[]):\n",
    "    pass\n",
    "    return w1, w2, costs # weights associated with the two input parameters and a list containing the cost values for each training epoch"
   ]
  },
  {
   "cell_type": "code",
   "execution_count": null,
   "metadata": {},
   "outputs": [],
   "source": [
    "w1, w2, costs = my_linear_model(nr_rooms, nr_wrooms, price)"
   ]
  },
  {
   "cell_type": "code",
   "execution_count": null,
   "metadata": {},
   "outputs": [],
   "source": [
    "plt.plot(costs)"
   ]
  },
  {
   "cell_type": "code",
   "execution_count": null,
   "metadata": {},
   "outputs": [],
   "source": [
    "target = price.copy()\n",
    "target = np.array([1  if value > np.mean(target) else 0 for value in target])\n",
    "target"
   ]
  },
  {
   "cell_type": "markdown",
   "metadata": {},
   "source": [
    "### Question #2: Binary Model"
   ]
  },
  {
   "cell_type": "code",
   "execution_count": null,
   "metadata": {},
   "outputs": [],
   "source": [
    "### Write a method (my_binary_model(...)) to train a binary classification model  using nr_rooms, nr_wrooms as input and target as a label\n",
    "def my_binary_model(nr_rooms, nr_wrooms, target, Learning_Rate=0.01, nr_epochs=20, w1= -0.22, w2=0.17, costs=[]):\n",
    "    pass\n",
    "    return w1, w2, costs # weights associated with the two input parameters and a list containing the cost values for each training epoch\n"
   ]
  },
  {
   "cell_type": "code",
   "execution_count": null,
   "metadata": {},
   "outputs": [],
   "source": [
    "w1, w2, costs = my_linear_model(nr_rooms, nr_wrooms, target)"
   ]
  },
  {
   "cell_type": "code",
   "execution_count": null,
   "metadata": {},
   "outputs": [],
   "source": [
    "plt.plot(costs)"
   ]
  },
  {
   "cell_type": "markdown",
   "metadata": {},
   "source": [
    "#### Rename the file to: <b> your_name_student_id_assignment1.ipynp </b>\n",
    "#### Run all the cells (in vs-code: Run All)\n",
    "#### Save the file\n",
    "#### Upload the file to <b> Assignment 1 </b> submission folder"
   ]
  },
  {
   "cell_type": "markdown",
   "metadata": {},
   "source": []
  }
 ],
 "metadata": {
  "kernelspec": {
   "display_name": "Python 3",
   "language": "python",
   "name": "python3"
  },
  "language_info": {
   "codemirror_mode": {
    "name": "ipython",
    "version": 3
   },
   "file_extension": ".py",
   "mimetype": "text/x-python",
   "name": "python",
   "nbconvert_exporter": "python",
   "pygments_lexer": "ipython3",
   "version": "3.8.10"
  }
 },
 "nbformat": 4,
 "nbformat_minor": 2
}
